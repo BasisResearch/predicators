{
 "cells": [
  {
   "cell_type": "code",
   "execution_count": 4,
   "id": "d95848d4-cfde-449f-b211-4a61872f6d01",
   "metadata": {},
   "outputs": [
    {
     "name": "stdout",
     "output_type": "stream",
     "text": [
      "The autoreload extension is already loaded. To reload it, use:\n",
      "  %reload_ext autoreload\n"
     ]
    }
   ],
   "source": [
    "%load_ext autoreload\n",
    "%autoreload 2"
   ]
  },
  {
   "cell_type": "code",
   "execution_count": 9,
   "id": "dfae5ecc-1efb-465a-bf2b-d21bb8112f8d",
   "metadata": {},
   "outputs": [],
   "source": [
    "from scripts.cluster_utils import config_to_cmd_flags, generate_run_configs\n"
   ]
  },
  {
   "cell_type": "code",
   "execution_count": 11,
   "id": "b8442fd9-b819-496d-8c58-6f14339f6c09",
   "metadata": {},
   "outputs": [
    {
     "name": "stdout",
     "output_type": "stream",
     "text": [
      "SingleSeedRunConfig(experiment_id='cover-learn_all', approach='grammar_search_invention', env='cover_multistep_options', args=[], flags={'num_train_tasks': 1000, 'excluded_predicates': 'all', 'timeout': 300, 'min_perc_data_for_nsrt': 1, 'segmenter': 'contacts', 'neural_gaus_regressor_max_itr': 50000, 'option_learner': 'direct_bc', 'sesame_max_samples_per_step': 100}, use_gpu=False, use_mujoco=False, train_refinement_estimator=False, seed=456)\n",
      "--env cover_multistep_options --approach grammar_search_invention --experiment_id cover-learn_all  --num_train_tasks 1000 --excluded_predicates all --timeout 300 --min_perc_data_for_nsrt 1 --segmenter contacts --neural_gaus_regressor_max_itr 50000 --option_learner direct_bc --sesame_max_samples_per_step 100 --seed 456\n"
     ]
    }
   ],
   "source": [
    "for cfg in generate_run_configs(\"full_pipeline.yaml\"):\n",
    "    print(cfg)\n",
    "    print(config_to_cmd_flags(cfg))\n",
    "    break"
   ]
  }
 ],
 "metadata": {
  "kernelspec": {
   "display_name": "Python 3 (ipykernel)",
   "language": "python",
   "name": "python3"
  },
  "language_info": {
   "codemirror_mode": {
    "name": "ipython",
    "version": 3
   },
   "file_extension": ".py",
   "mimetype": "text/x-python",
   "name": "python",
   "nbconvert_exporter": "python",
   "pygments_lexer": "ipython3",
   "version": "3.8.18"
  }
 },
 "nbformat": 4,
 "nbformat_minor": 5
}
